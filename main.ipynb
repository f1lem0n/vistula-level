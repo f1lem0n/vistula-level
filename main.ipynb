{
 "cells": [
  {
   "cell_type": "markdown",
   "source": [
    "# Analiza danych hydrologicznych - stacja Kraków-Czernichów, 2016-2018"
   ],
   "metadata": {
    "collapsed": false,
    "pycharm": {
     "name": "#%% md\n"
    }
   }
  },
  {
   "cell_type": "markdown",
   "source": [
    "## Zaimportowane moduły i pliki"
   ],
   "metadata": {
    "collapsed": false,
    "pycharm": {
     "name": "#%% md\n"
    }
   }
  },
  {
   "cell_type": "code",
   "execution_count": 1,
   "outputs": [],
   "source": [
    "import time\n",
    "import zipfile\n",
    "from glob import glob\n",
    "\n",
    "import pandas as pd"
   ],
   "metadata": {
    "collapsed": false,
    "pycharm": {
     "name": "#%%\n"
    }
   }
  },
  {
   "cell_type": "code",
   "execution_count": 2,
   "outputs": [],
   "source": [
    "data_dir = 'dane.imgw.pl/data/dane_pomiarowo_obserwacyjne/dane_hydrologiczne/dobowe'\n",
    "zip_files = glob(f'{data_dir}/*/*.zip')"
   ],
   "metadata": {
    "collapsed": false,
    "pycharm": {
     "name": "#%%\n"
    }
   }
  },
  {
   "cell_type": "markdown",
   "source": [
    "## Ekstrakcja z archiwów .zip\n",
    "Ten skrypt ma za zadanie wypakowanie zawartości pliku .zip (plik .csv) do tej samej ścieżki, a następnie stworzenie listy otrzymanych plików .csv."
   ],
   "metadata": {
    "collapsed": false,
    "pycharm": {
     "name": "#%% md\n"
    }
   }
  },
  {
   "cell_type": "code",
   "execution_count": 3,
   "outputs": [],
   "source": [
    "def unpack(files: list) -> list:\n",
    "    for file in files:\n",
    "        with zipfile.ZipFile(file) as zip_file:\n",
    "            zip_file.extractall(file[:77])\n",
    "\n",
    "    #csv files - new list\n",
    "    csv_files = glob(f'{data_dir}/*/*.csv')\n",
    "\n",
    "    return sorted(csv_files)\n",
    "\n"
   ],
   "metadata": {
    "collapsed": false,
    "pycharm": {
     "name": "#%%\n"
    }
   }
  },
  {
   "cell_type": "markdown",
   "source": [
    "## Analiza danych"
   ],
   "metadata": {
    "collapsed": false,
    "pycharm": {
     "name": "#%% md\n"
    }
   }
  },
  {
   "cell_type": "code",
   "execution_count": 10,
   "outputs": [
    {
     "ename": "TypeError",
     "evalue": "DataFrame.__init__() got an unexpected keyword argument 'names'",
     "output_type": "error",
     "traceback": [
      "\u001B[0;31m---------------------------------------------------------------------------\u001B[0m",
      "\u001B[0;31mTypeError\u001B[0m                                 Traceback (most recent call last)",
      "Input \u001B[0;32mIn [10]\u001B[0m, in \u001B[0;36m<cell line: 14>\u001B[0;34m()\u001B[0m\n\u001B[1;32m      1\u001B[0m start_time \u001B[38;5;241m=\u001B[39m time\u001B[38;5;241m.\u001B[39mtime()\n\u001B[1;32m      2\u001B[0m codz_names \u001B[38;5;241m=\u001B[39m (\n\u001B[1;32m      3\u001B[0m                 \u001B[38;5;124m'\u001B[39m\u001B[38;5;124mKod stacji\u001B[39m\u001B[38;5;124m'\u001B[39m,\n\u001B[1;32m      4\u001B[0m                 \u001B[38;5;124m'\u001B[39m\u001B[38;5;124mNazwa stacji\u001B[39m\u001B[38;5;124m'\u001B[39m,\n\u001B[0;32m   (...)\u001B[0m\n\u001B[1;32m     12\u001B[0m                 \u001B[38;5;124m'\u001B[39m\u001B[38;5;124mMiesiąc kalendarzowy\u001B[39m\u001B[38;5;124m'\u001B[39m\n\u001B[1;32m     13\u001B[0m             )\n\u001B[0;32m---> 14\u001B[0m KRK_BIELANY \u001B[38;5;241m=\u001B[39m \u001B[43mpd\u001B[49m\u001B[38;5;241;43m.\u001B[39;49m\u001B[43mDataFrame\u001B[49m\u001B[43m(\u001B[49m\u001B[43mnames\u001B[49m\u001B[38;5;241;43m=\u001B[39;49m\u001B[43mcodz_names\u001B[49m\u001B[43m)\u001B[49m\n\u001B[1;32m     15\u001B[0m \u001B[38;5;28;01mfor\u001B[39;00m file \u001B[38;5;129;01min\u001B[39;00m unpack(zip_files):\n\u001B[1;32m     16\u001B[0m     \u001B[38;5;28;01mif\u001B[39;00m \u001B[38;5;124m'\u001B[39m\u001B[38;5;124m/codz_\u001B[39m\u001B[38;5;124m'\u001B[39m \u001B[38;5;129;01min\u001B[39;00m file:\n",
      "\u001B[0;31mTypeError\u001B[0m: DataFrame.__init__() got an unexpected keyword argument 'names'"
     ]
    }
   ],
   "source": [
    "start_time = time.time()\n",
    "codz_names = (\n",
    "                'Kod stacji',\n",
    "                'Nazwa stacji',\n",
    "                'Nazwa rzeki/jeziora',\n",
    "                'Rok hydrologiczny',\n",
    "                'Wskaźnik miesiąca w roku hydrologicznym',\n",
    "                'Dzień',\n",
    "                'Stan wody [cm]',\n",
    "                'Przepływ [m^3/s]',\n",
    "                'Temperatura wody [st. C]',\n",
    "                'Miesiąc kalendarzowy'\n",
    ")\n",
    "\n",
    "zjaw_names = (\n",
    "            'Kod stacji',\n",
    "            'Nazwa stacji',\n",
    "            'Nazwa rzeki/jeziora',\n",
    "            'Rok hydrologiczny',\n",
    "            'Wskaźnik miesiąca w roku hydrologicznym',\n",
    "            'Dzień',\n",
    "            'Grubość lodu [cm]',\n",
    "            'Kod zjawiska lodowego',\n",
    "            'Procent udziału zjawiska lodowego / 10',\n",
    "            'Kod zarastania'\n",
    ")\n",
    "\n",
    "for file in unpack(zip_files):\n",
    "    if '/codz_' in file:\n",
    "        df = pd.read_csv(\n",
    "            file,\n",
    "            encoding='windows-1250',\n",
    "            index_col='Kod stacji',\n",
    "            names=codz_names\n",
    "        )\n",
    "\n",
    "        krk_bielany = df[df['Nazwa stacji'] == 'KRAKÓW-BIELANY']\n",
    "        df_list += krk_bielany\n",
    "\n",
    "# value 9999 in df['Stan wody'] = NaN\n",
    "# value 99.9 in df['Temperatura wody [st. C]'] = NaN\n",
    "# value 99999.999 in df['Przepływ [m^3/s]'] = NaN\n",
    "\n",
    "KRK_BIELANY = pd.concat(krk_bielany, ignore_index=True, sort=False)\n",
    "\n",
    "# elif '/zjaw_' in file:\n",
    "#     df = pd.read_csv(\n",
    "#         file,\n",
    "#         encoding='windows-1250',\n",
    "#         index_col='Kod stacji',\n",
    "#         names=zjaw_names\n",
    "#     )\n",
    "\n",
    "print(f'execution time: {time.time() - start_time} s')"
   ],
   "metadata": {
    "collapsed": false,
    "pycharm": {
     "name": "#%%\n"
    }
   }
  }
 ],
 "metadata": {
  "kernelspec": {
   "display_name": "Python 3",
   "language": "python",
   "name": "python3"
  },
  "language_info": {
   "codemirror_mode": {
    "name": "ipython",
    "version": 2
   },
   "file_extension": ".py",
   "mimetype": "text/x-python",
   "name": "python",
   "nbconvert_exporter": "python",
   "pygments_lexer": "ipython2",
   "version": "2.7.6"
  }
 },
 "nbformat": 4,
 "nbformat_minor": 0
}