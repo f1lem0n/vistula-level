{
 "cells": [
  {
   "cell_type": "markdown",
   "source": [
    "# Analiza danych hydrologicznych - stacja Kraków-Czernichów, 2016-2018"
   ],
   "metadata": {
    "collapsed": false,
    "pycharm": {
     "name": "#%% md\n"
    }
   }
  },
  {
   "cell_type": "markdown",
   "source": [
    "## Zaimportowane moduły i pliki"
   ],
   "metadata": {
    "collapsed": false,
    "pycharm": {
     "name": "#%% md\n"
    }
   }
  },
  {
   "cell_type": "code",
   "execution_count": 1,
   "outputs": [],
   "source": [
    "from zipfile import ZipFile\n",
    "import pandas as pd\n",
    "import matplotlib.pyplot as plt\n",
    "from glob import glob\n",
    "import zipfile\n",
    "import codecs"
   ],
   "metadata": {
    "collapsed": false,
    "pycharm": {
     "name": "#%%\n"
    }
   }
  },
  {
   "cell_type": "code",
   "execution_count": 2,
   "outputs": [],
   "source": [
    "data_dir = 'dane.imgw.pl/data/dane_pomiarowo_obserwacyjne/dane_hydrologiczne/dobowe'\n",
    "zip_files = glob(f'{data_dir}/*/*.zip')"
   ],
   "metadata": {
    "collapsed": false,
    "pycharm": {
     "name": "#%%\n"
    }
   }
  },
  {
   "cell_type": "code",
   "execution_count": 3,
   "outputs": [
    {
     "data": {
      "text/plain": "['dane.imgw.pl/data/dane_pomiarowo_obserwacyjne/dane_hydrologiczne/dobowe\\\\2016\\\\codz_2016_01.zip',\n 'dane.imgw.pl/data/dane_pomiarowo_obserwacyjne/dane_hydrologiczne/dobowe\\\\2016\\\\codz_2016_02.zip',\n 'dane.imgw.pl/data/dane_pomiarowo_obserwacyjne/dane_hydrologiczne/dobowe\\\\2016\\\\codz_2016_03.zip',\n 'dane.imgw.pl/data/dane_pomiarowo_obserwacyjne/dane_hydrologiczne/dobowe\\\\2016\\\\codz_2016_04.zip',\n 'dane.imgw.pl/data/dane_pomiarowo_obserwacyjne/dane_hydrologiczne/dobowe\\\\2016\\\\codz_2016_05.zip',\n 'dane.imgw.pl/data/dane_pomiarowo_obserwacyjne/dane_hydrologiczne/dobowe\\\\2016\\\\codz_2016_06.zip',\n 'dane.imgw.pl/data/dane_pomiarowo_obserwacyjne/dane_hydrologiczne/dobowe\\\\2016\\\\codz_2016_07.zip',\n 'dane.imgw.pl/data/dane_pomiarowo_obserwacyjne/dane_hydrologiczne/dobowe\\\\2016\\\\codz_2016_08.zip',\n 'dane.imgw.pl/data/dane_pomiarowo_obserwacyjne/dane_hydrologiczne/dobowe\\\\2016\\\\codz_2016_09.zip',\n 'dane.imgw.pl/data/dane_pomiarowo_obserwacyjne/dane_hydrologiczne/dobowe\\\\2016\\\\codz_2016_10.zip',\n 'dane.imgw.pl/data/dane_pomiarowo_obserwacyjne/dane_hydrologiczne/dobowe\\\\2016\\\\codz_2016_11.zip',\n 'dane.imgw.pl/data/dane_pomiarowo_obserwacyjne/dane_hydrologiczne/dobowe\\\\2016\\\\codz_2016_12.zip',\n 'dane.imgw.pl/data/dane_pomiarowo_obserwacyjne/dane_hydrologiczne/dobowe\\\\2016\\\\zjaw_2016.zip',\n 'dane.imgw.pl/data/dane_pomiarowo_obserwacyjne/dane_hydrologiczne/dobowe\\\\2017\\\\codz_2017_01.zip',\n 'dane.imgw.pl/data/dane_pomiarowo_obserwacyjne/dane_hydrologiczne/dobowe\\\\2017\\\\codz_2017_02.zip',\n 'dane.imgw.pl/data/dane_pomiarowo_obserwacyjne/dane_hydrologiczne/dobowe\\\\2017\\\\codz_2017_03.zip',\n 'dane.imgw.pl/data/dane_pomiarowo_obserwacyjne/dane_hydrologiczne/dobowe\\\\2017\\\\codz_2017_04.zip',\n 'dane.imgw.pl/data/dane_pomiarowo_obserwacyjne/dane_hydrologiczne/dobowe\\\\2017\\\\codz_2017_05.zip',\n 'dane.imgw.pl/data/dane_pomiarowo_obserwacyjne/dane_hydrologiczne/dobowe\\\\2017\\\\codz_2017_06.zip',\n 'dane.imgw.pl/data/dane_pomiarowo_obserwacyjne/dane_hydrologiczne/dobowe\\\\2017\\\\codz_2017_07.zip',\n 'dane.imgw.pl/data/dane_pomiarowo_obserwacyjne/dane_hydrologiczne/dobowe\\\\2017\\\\codz_2017_08.zip',\n 'dane.imgw.pl/data/dane_pomiarowo_obserwacyjne/dane_hydrologiczne/dobowe\\\\2017\\\\codz_2017_09.zip',\n 'dane.imgw.pl/data/dane_pomiarowo_obserwacyjne/dane_hydrologiczne/dobowe\\\\2017\\\\codz_2017_10.zip',\n 'dane.imgw.pl/data/dane_pomiarowo_obserwacyjne/dane_hydrologiczne/dobowe\\\\2017\\\\codz_2017_11.zip',\n 'dane.imgw.pl/data/dane_pomiarowo_obserwacyjne/dane_hydrologiczne/dobowe\\\\2017\\\\codz_2017_12.zip',\n 'dane.imgw.pl/data/dane_pomiarowo_obserwacyjne/dane_hydrologiczne/dobowe\\\\2017\\\\zjaw_2017.zip',\n 'dane.imgw.pl/data/dane_pomiarowo_obserwacyjne/dane_hydrologiczne/dobowe\\\\2018\\\\codz_2018_01.zip',\n 'dane.imgw.pl/data/dane_pomiarowo_obserwacyjne/dane_hydrologiczne/dobowe\\\\2018\\\\codz_2018_02.zip',\n 'dane.imgw.pl/data/dane_pomiarowo_obserwacyjne/dane_hydrologiczne/dobowe\\\\2018\\\\codz_2018_03.zip',\n 'dane.imgw.pl/data/dane_pomiarowo_obserwacyjne/dane_hydrologiczne/dobowe\\\\2018\\\\codz_2018_04.zip',\n 'dane.imgw.pl/data/dane_pomiarowo_obserwacyjne/dane_hydrologiczne/dobowe\\\\2018\\\\codz_2018_05.zip',\n 'dane.imgw.pl/data/dane_pomiarowo_obserwacyjne/dane_hydrologiczne/dobowe\\\\2018\\\\codz_2018_06.zip',\n 'dane.imgw.pl/data/dane_pomiarowo_obserwacyjne/dane_hydrologiczne/dobowe\\\\2018\\\\codz_2018_07.zip',\n 'dane.imgw.pl/data/dane_pomiarowo_obserwacyjne/dane_hydrologiczne/dobowe\\\\2018\\\\codz_2018_08.zip',\n 'dane.imgw.pl/data/dane_pomiarowo_obserwacyjne/dane_hydrologiczne/dobowe\\\\2018\\\\codz_2018_09.zip',\n 'dane.imgw.pl/data/dane_pomiarowo_obserwacyjne/dane_hydrologiczne/dobowe\\\\2018\\\\codz_2018_10.zip',\n 'dane.imgw.pl/data/dane_pomiarowo_obserwacyjne/dane_hydrologiczne/dobowe\\\\2018\\\\codz_2018_11.zip',\n 'dane.imgw.pl/data/dane_pomiarowo_obserwacyjne/dane_hydrologiczne/dobowe\\\\2018\\\\codz_2018_12.zip',\n 'dane.imgw.pl/data/dane_pomiarowo_obserwacyjne/dane_hydrologiczne/dobowe\\\\2018\\\\zjaw_2018.zip']"
     },
     "execution_count": 3,
     "metadata": {},
     "output_type": "execute_result"
    }
   ],
   "source": [
    "zip_files"
   ],
   "metadata": {
    "collapsed": false,
    "pycharm": {
     "name": "#%%\n"
    }
   }
  },
  {
   "cell_type": "markdown",
   "source": [
    "## Ekstrakcja z archiwów .zip\n",
    "Ten skrypt ma za zadanie wypakowanie zawartości pliku .zip (plik .csv) do tej samej ścieżki, a następnie stworzenie listy otrzymanych plików .csv."
   ],
   "metadata": {
    "collapsed": false,
    "pycharm": {
     "name": "#%% md\n"
    }
   }
  },
  {
   "cell_type": "code",
   "execution_count": 4,
   "outputs": [],
   "source": [
    "def unpack(files: list) -> list:\n",
    "    for file in files:\n",
    "        with zipfile.ZipFile(file) as zip_file:\n",
    "            zip_file.extractall(file[:77])\n",
    "\n",
    "    #csv files - new list\n",
    "    csv_files = glob(f'{data_dir}/*/*.csv')\n",
    "\n",
    "    return sorted(csv_files)"
   ],
   "metadata": {
    "collapsed": false,
    "pycharm": {
     "name": "#%%\n"
    }
   }
  },
  {
   "cell_type": "markdown",
   "source": [
    "## Analiza danych"
   ],
   "metadata": {
    "collapsed": false,
    "pycharm": {
     "name": "#%% md\n"
    }
   }
  },
  {
   "cell_type": "code",
   "execution_count": 5,
   "outputs": [
    {
     "data": {
      "text/plain": "           Nazwa stacji Nazwa rzeki/jeziora  Rok hydrologiczny  \\\nKod stacji                                                       \n149180020      CHAŁUPKI            Odra (1)               2018   \n149180020      CHAŁUPKI            Odra (1)               2018   \n149180020      CHAŁUPKI            Odra (1)               2018   \n149180020      CHAŁUPKI            Odra (1)               2018   \n149180020      CHAŁUPKI            Odra (1)               2018   \n...                 ...                 ...                ...   \n149190250      JABŁONKA  Piekielnik (82224)               2018   \n149190250      JABŁONKA  Piekielnik (82224)               2018   \n149190250      JABŁONKA  Piekielnik (82224)               2018   \n149190250      JABŁONKA  Piekielnik (82224)               2018   \n149190250      JABŁONKA  Piekielnik (82224)               2018   \n\n            Wskaźnik miesiąca w roku hydrologicznym  Dzień  Stan wody [cm]  \\\nKod stacji                                                                   \n149180020                                        12      1              75   \n149180020                                        12      2              82   \n149180020                                        12      3              85   \n149180020                                        12      4              80   \n149180020                                        12      5              79   \n...                                             ...    ...             ...   \n149190250                                        12     27             141   \n149190250                                        12     28             156   \n149190250                                        12     29             155   \n149190250                                        12     30             149   \n149190250                                        12     31             146   \n\n            Przepływ [m^3/s]  Temperatura wody [st. C]  Miesiąc kalendarzowy  \nKod stacji                                                                    \n149180020               9.13                      99.9                    10  \n149180020              11.60                      99.9                    10  \n149180020              12.80                      99.9                    10  \n149180020              10.90                      99.9                    10  \n149180020              10.60                      99.9                    10  \n...                      ...                       ...                   ...  \n149190250               0.75                      99.9                    10  \n149190250               2.20                      99.9                    10  \n149190250               2.07                      99.9                    10  \n149190250               1.52                      99.9                    10  \n149190250               1.19                      99.9                    10  \n\n[25801 rows x 9 columns]",
      "text/html": "<div>\n<style scoped>\n    .dataframe tbody tr th:only-of-type {\n        vertical-align: middle;\n    }\n\n    .dataframe tbody tr th {\n        vertical-align: top;\n    }\n\n    .dataframe thead th {\n        text-align: right;\n    }\n</style>\n<table border=\"1\" class=\"dataframe\">\n  <thead>\n    <tr style=\"text-align: right;\">\n      <th></th>\n      <th>Nazwa stacji</th>\n      <th>Nazwa rzeki/jeziora</th>\n      <th>Rok hydrologiczny</th>\n      <th>Wskaźnik miesiąca w roku hydrologicznym</th>\n      <th>Dzień</th>\n      <th>Stan wody [cm]</th>\n      <th>Przepływ [m^3/s]</th>\n      <th>Temperatura wody [st. C]</th>\n      <th>Miesiąc kalendarzowy</th>\n    </tr>\n    <tr>\n      <th>Kod stacji</th>\n      <th></th>\n      <th></th>\n      <th></th>\n      <th></th>\n      <th></th>\n      <th></th>\n      <th></th>\n      <th></th>\n      <th></th>\n    </tr>\n  </thead>\n  <tbody>\n    <tr>\n      <th>149180020</th>\n      <td>CHAŁUPKI</td>\n      <td>Odra (1)</td>\n      <td>2018</td>\n      <td>12</td>\n      <td>1</td>\n      <td>75</td>\n      <td>9.13</td>\n      <td>99.9</td>\n      <td>10</td>\n    </tr>\n    <tr>\n      <th>149180020</th>\n      <td>CHAŁUPKI</td>\n      <td>Odra (1)</td>\n      <td>2018</td>\n      <td>12</td>\n      <td>2</td>\n      <td>82</td>\n      <td>11.60</td>\n      <td>99.9</td>\n      <td>10</td>\n    </tr>\n    <tr>\n      <th>149180020</th>\n      <td>CHAŁUPKI</td>\n      <td>Odra (1)</td>\n      <td>2018</td>\n      <td>12</td>\n      <td>3</td>\n      <td>85</td>\n      <td>12.80</td>\n      <td>99.9</td>\n      <td>10</td>\n    </tr>\n    <tr>\n      <th>149180020</th>\n      <td>CHAŁUPKI</td>\n      <td>Odra (1)</td>\n      <td>2018</td>\n      <td>12</td>\n      <td>4</td>\n      <td>80</td>\n      <td>10.90</td>\n      <td>99.9</td>\n      <td>10</td>\n    </tr>\n    <tr>\n      <th>149180020</th>\n      <td>CHAŁUPKI</td>\n      <td>Odra (1)</td>\n      <td>2018</td>\n      <td>12</td>\n      <td>5</td>\n      <td>79</td>\n      <td>10.60</td>\n      <td>99.9</td>\n      <td>10</td>\n    </tr>\n    <tr>\n      <th>...</th>\n      <td>...</td>\n      <td>...</td>\n      <td>...</td>\n      <td>...</td>\n      <td>...</td>\n      <td>...</td>\n      <td>...</td>\n      <td>...</td>\n      <td>...</td>\n    </tr>\n    <tr>\n      <th>149190250</th>\n      <td>JABŁONKA</td>\n      <td>Piekielnik (82224)</td>\n      <td>2018</td>\n      <td>12</td>\n      <td>27</td>\n      <td>141</td>\n      <td>0.75</td>\n      <td>99.9</td>\n      <td>10</td>\n    </tr>\n    <tr>\n      <th>149190250</th>\n      <td>JABŁONKA</td>\n      <td>Piekielnik (82224)</td>\n      <td>2018</td>\n      <td>12</td>\n      <td>28</td>\n      <td>156</td>\n      <td>2.20</td>\n      <td>99.9</td>\n      <td>10</td>\n    </tr>\n    <tr>\n      <th>149190250</th>\n      <td>JABŁONKA</td>\n      <td>Piekielnik (82224)</td>\n      <td>2018</td>\n      <td>12</td>\n      <td>29</td>\n      <td>155</td>\n      <td>2.07</td>\n      <td>99.9</td>\n      <td>10</td>\n    </tr>\n    <tr>\n      <th>149190250</th>\n      <td>JABŁONKA</td>\n      <td>Piekielnik (82224)</td>\n      <td>2018</td>\n      <td>12</td>\n      <td>30</td>\n      <td>149</td>\n      <td>1.52</td>\n      <td>99.9</td>\n      <td>10</td>\n    </tr>\n    <tr>\n      <th>149190250</th>\n      <td>JABŁONKA</td>\n      <td>Piekielnik (82224)</td>\n      <td>2018</td>\n      <td>12</td>\n      <td>31</td>\n      <td>146</td>\n      <td>1.19</td>\n      <td>99.9</td>\n      <td>10</td>\n    </tr>\n  </tbody>\n</table>\n<p>25801 rows × 9 columns</p>\n</div>"
     },
     "execution_count": 5,
     "metadata": {},
     "output_type": "execute_result"
    }
   ],
   "source": [
    "for file in unpack(zip_files):\n",
    "\n",
    "    if '\\\\codz_' in file:\n",
    "        df = pd.read_csv(\n",
    "            file,\n",
    "            encoding='windows-1250',\n",
    "            index_col='Kod stacji',\n",
    "            names=(\n",
    "                'Kod stacji',\n",
    "                'Nazwa stacji',\n",
    "                'Nazwa rzeki/jeziora',\n",
    "                'Rok hydrologiczny',\n",
    "                'Wskaźnik miesiąca w roku hydrologicznym',\n",
    "                'Dzień',\n",
    "                'Stan wody [cm]',\n",
    "                'Przepływ [m^3/s]',\n",
    "                'Temperatura wody [st. C]',\n",
    "                'Miesiąc kalendarzowy'\n",
    "            )\n",
    "        )\n",
    "        # for i in df['Stan wody [cm]']:\n",
    "        #     if i == 999:\n",
    "        #         df['Stan wody [cm]'][i] = 'null'\n",
    "        # for i in df['Przepływ [m^3/s]']:\n",
    "        #     if i == 99999.999:\n",
    "        #         df['Przepływ [m^3/s]'][i] = 'null'\n",
    "        for i in df['Temperatura wody [st. C]']:\n",
    "            if i == 99.9:\n",
    "                # df['Temperatura wody [st. C]'][i] = 'null'\n",
    "                i = 'NaN'\n",
    "\n",
    "# df['Temperatura wody [st. C]'].dtype\n",
    "df\n",
    "\n",
    "# elif '\\\\zjaw_' in file:\n",
    "#     df = pd.read_csv(\n",
    "#         file,\n",
    "#         encoding='windows-1250',\n",
    "#         index_col='Kod stacji',\n",
    "#         names=(\n",
    "#             'Kod stacji',\n",
    "#             'Nazwa stacji',\n",
    "#             'Nazwa rzeki/jeziora',\n",
    "#             'Rok hydrologiczny',\n",
    "#             'Wskaźnik miesiąca w roku hydrologicznym',\n",
    "#             'Dzień',\n",
    "#             'Grubość lodu [cm]',\n",
    "#             'Kod zjawiska lodowego',\n",
    "#             'Procent udziału zjawiska lodowego / 10',\n",
    "#             'Kod zarastania'\n",
    "#         )\n",
    "#     )"
   ],
   "metadata": {
    "collapsed": false,
    "pycharm": {
     "name": "#%%\n"
    }
   }
  },
  {
   "cell_type": "code",
   "execution_count": null,
   "outputs": [],
   "source": [],
   "metadata": {
    "collapsed": false,
    "pycharm": {
     "name": "#%%\n"
    }
   }
  }
 ],
 "metadata": {
  "kernelspec": {
   "display_name": "Python 3",
   "language": "python",
   "name": "python3"
  },
  "language_info": {
   "codemirror_mode": {
    "name": "ipython",
    "version": 2
   },
   "file_extension": ".py",
   "mimetype": "text/x-python",
   "name": "python",
   "nbconvert_exporter": "python",
   "pygments_lexer": "ipython2",
   "version": "2.7.6"
  }
 },
 "nbformat": 4,
 "nbformat_minor": 0
}