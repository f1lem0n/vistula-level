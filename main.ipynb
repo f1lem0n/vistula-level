{
 "cells": [
  {
   "cell_type": "markdown",
   "source": [
    "# Analiza danych hydrologicznych - stacja Kraków-Czernichów, 2016-2018"
   ],
   "metadata": {
    "collapsed": false,
    "pycharm": {
     "name": "#%% md\n"
    }
   }
  },
  {
   "cell_type": "markdown",
   "source": [
    "## Zaimportowane moduły i pliki"
   ],
   "metadata": {
    "collapsed": false,
    "pycharm": {
     "name": "#%% md\n"
    }
   }
  },
  {
   "cell_type": "code",
   "execution_count": null,
   "outputs": [],
   "source": [
    "import time\n",
    "import zipfile\n",
    "from glob import glob\n",
    "import pandas as pd\n",
    "import matplotlib.pyplot as plt"
   ],
   "metadata": {
    "collapsed": false,
    "pycharm": {
     "name": "#%%\n"
    }
   }
  },
  {
   "cell_type": "code",
   "execution_count": null,
   "outputs": [],
   "source": [
    "data_dir = 'dane.imgw.pl/data/dane_pomiarowo_obserwacyjne/dane_hydrologiczne/dobowe'\n",
    "zip_files = glob(f'{data_dir}/*/*.zip')"
   ],
   "metadata": {
    "collapsed": false,
    "pycharm": {
     "name": "#%%\n"
    }
   }
  },
  {
   "cell_type": "markdown",
   "source": [
    "## Ekstrakcja z archiwów .zip\n",
    "Ten skrypt ma za zadanie wypakowanie zawartości pliku .zip (plik .csv) do tej samej ścieżki, a następnie stworzenie listy otrzymanych plików .csv."
   ],
   "metadata": {
    "collapsed": false,
    "pycharm": {
     "name": "#%% md\n"
    }
   }
  },
  {
   "cell_type": "code",
   "execution_count": null,
   "outputs": [],
   "source": [
    "def unpack(files: list) -> list:\n",
    "    for file in files:\n",
    "        with zipfile.ZipFile(file) as zip_file:\n",
    "            zip_file.extractall(file[:77])\n",
    "\n",
    "    #csv files - new list\n",
    "    csv_files = glob(f'{data_dir}/*/*.csv')\n",
    "\n",
    "    return sorted(csv_files)\n",
    "\n"
   ],
   "metadata": {
    "collapsed": false,
    "pycharm": {
     "name": "#%%\n"
    }
   }
  },
  {
   "cell_type": "markdown",
   "source": [
    "## Analiza danych"
   ],
   "metadata": {
    "collapsed": false,
    "pycharm": {
     "name": "#%% md\n"
    }
   }
  },
  {
   "cell_type": "code",
   "execution_count": null,
   "outputs": [],
   "source": [
    "start_time = time.time()\n",
    "codz_names = (\n",
    "    'Kod stacji',\n",
    "    'Nazwa stacji',\n",
    "    'Nazwa rzeki/jeziora',\n",
    "    'Rok hydrologiczny',\n",
    "    'Wskaźnik miesiąca w roku hydrologicznym',\n",
    "    'Dzień',\n",
    "    'Stan wody [cm]',\n",
    "    'Przepływ [m^3/s]',\n",
    "    'Temperatura wody [st. C]',\n",
    "    'Miesiąc kalendarzowy'\n",
    ")\n",
    "\n",
    "zjaw_names = (\n",
    "    'Kod stacji',\n",
    "    'Nazwa stacji',\n",
    "    'Nazwa rzeki/jeziora',\n",
    "    'Rok hydrologiczny',\n",
    "    'Wskaźnik miesiąca w roku hydrologicznym',\n",
    "    'Dzień',\n",
    "    'Grubość lodu [cm]',\n",
    "    'Kod zjawiska lodowego',\n",
    "    'Procent udziału zjawiska lodowego / 10',\n",
    "    'Kod zarastania'\n",
    ")\n",
    "KRK_BIELANY = pd.DataFrame()\n",
    "dates = []\n",
    "stations = []\n",
    "for file in unpack(zip_files):\n",
    "    if 'codz_' in file:\n",
    "        df = pd.read_csv(\n",
    "            file,\n",
    "            encoding='windows-1250',\n",
    "            names=codz_names\n",
    "        )\n",
    "        for row in df['Nazwa stacji']:\n",
    "            if row not in stations:\n",
    "                stations.append(row)\n",
    "\n",
    "DATA = {i for i in stations:df[df['Nazwa stacji'] == i for i in stations]}\n",
    "\n",
    "print(DATA)\n",
    "\n",
    "krk_bielany = df[df['Nazwa stacji'] == 'KRAKÓW-BIELANY']\n",
    "\n",
    "KRK_BIELANY = pd.concat([KRK_BIELANY, krk_bielany], ignore_index=True)\n",
    "\n",
    "for idx, row in enumerate(KRK_BIELANY['Rok hydrologiczny']):\n",
    "    date = f\"{row}.{KRK_BIELANY['Wskaźnik miesiąca w roku hydrologicznym'][idx]:02d}.{KRK_BIELANY['Dzień'][idx]:02d}\"\n",
    "    dates.append(date)\n",
    "KRK_BIELANY.insert(value=dates, column='Data', loc=3)\n",
    "\n",
    "KRK_BIELANY = KRK_BIELANY.drop(\n",
    "    axis=1,\n",
    "    labels=[\n",
    "        'Rok hydrologiczny',\n",
    "        'Wskaźnik miesiąca w roku hydrologicznym',\n",
    "        'Dzień',\n",
    "        'Miesiąc kalendarzowy'\n",
    "    ]\n",
    ")\n",
    "\n",
    "print(f'execution time: {time.time() - start_time} s')\n",
    "KRK_BIELANY.head()"
   ],
   "metadata": {
    "collapsed": false,
    "pycharm": {
     "name": "#%%\n"
    }
   }
  },
  {
   "cell_type": "code",
   "execution_count": null,
   "outputs": [],
   "source": [
    "fig1 = plt.figure(figsize=(10, 6), dpi=100, facecolor='#ffffff')\n",
    "plt.plot(\n",
    "    KRK_BIELANY['Data'],\n",
    "    KRK_BIELANY['Stan wody [cm]'],\n",
    ")\n",
    "plt.title('Poziom wody w Wiśle w latach 2016-2018 (stacja Kraków-Bielany)', fontdict={'fontsize':18})\n",
    "plt.ylabel('Poziom wody [cm]', fontdict={'fontsize':14}, labelpad=30)\n",
    "plt.xlabel('Data', fontdict={'fontsize':14}, labelpad=30)\n",
    "plt.xticks(KRK_BIELANY['Data'][::90], rotation=90)\n",
    "plt.savefig('output/fig1.png', bbox_inches='tight')\n",
    "plt.show()\n",
    "plt.close(fig1)"
   ],
   "metadata": {
    "collapsed": false,
    "pycharm": {
     "name": "#%%\n"
    }
   }
  },
  {
   "cell_type": "code",
   "execution_count": null,
   "outputs": [],
   "source": [
    "fig1 = plt.figure(figsize=(10, 6), dpi=100, facecolor='#ffffff')\n",
    "plt.plot(\n",
    "    KRK_BIELANY['Data'],\n",
    "    KRK_BIELANY['Stan wody [cm]'],\n",
    ")\n",
    "plt.title('Poziom wody w Wiśle w latach 2016-2018 (stacja Kraków-Bielany)', fontdict={'fontsize':18})\n",
    "plt.ylabel('Poziom wody [cm]', fontdict={'fontsize':14}, labelpad=30)\n",
    "plt.xlabel('Data', fontdict={'fontsize':14}, labelpad=30)\n",
    "plt.xticks(KRK_BIELANY['Data'][::90], rotation=90)\n",
    "plt.savefig('output/fig1.png', bbox_inches='tight')\n",
    "plt.show()\n",
    "plt.close(fig1)"
   ],
   "metadata": {
    "collapsed": false,
    "pycharm": {
     "name": "#%%\n"
    }
   }
  }
 ],
 "metadata": {
  "kernelspec": {
   "display_name": "Python 3",
   "language": "python",
   "name": "python3"
  },
  "language_info": {
   "codemirror_mode": {
    "name": "ipython",
    "version": 2
   },
   "file_extension": ".py",
   "mimetype": "text/x-python",
   "name": "python",
   "nbconvert_exporter": "python",
   "pygments_lexer": "ipython2",
   "version": "2.7.6"
  }
 },
 "nbformat": 4,
 "nbformat_minor": 0
}