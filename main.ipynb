{
 "cells": [
  {
   "cell_type": "markdown",
   "source": [
    "# Analiza danych hydrologicznych - stacja Kraków-Czernichów, 2016-2018"
   ],
   "metadata": {
    "collapsed": false,
    "pycharm": {
     "name": "#%% md\n"
    }
   }
  },
  {
   "cell_type": "markdown",
   "source": [
    "## Zaimportowane moduły i pliki"
   ],
   "metadata": {
    "collapsed": false,
    "pycharm": {
     "name": "#%% md\n"
    }
   }
  },
  {
   "cell_type": "code",
   "execution_count": 1,
   "outputs": [],
   "source": [
    "import time\n",
    "import zipfile\n",
    "from glob import glob\n",
    "import pandas as pd"
   ],
   "metadata": {
    "collapsed": false,
    "pycharm": {
     "name": "#%%\n"
    }
   }
  },
  {
   "cell_type": "code",
   "execution_count": 2,
   "outputs": [],
   "source": [
    "data_dir = 'dane.imgw.pl/data/dane_pomiarowo_obserwacyjne/dane_hydrologiczne/dobowe'\n",
    "zip_files = glob(f'{data_dir}/*/*.zip')"
   ],
   "metadata": {
    "collapsed": false,
    "pycharm": {
     "name": "#%%\n"
    }
   }
  },
  {
   "cell_type": "markdown",
   "source": [
    "## Ekstrakcja z archiwów .zip\n",
    "Ten skrypt ma za zadanie wypakowanie zawartości pliku .zip (plik .csv) do tej samej ścieżki, a następnie stworzenie listy otrzymanych plików .csv."
   ],
   "metadata": {
    "collapsed": false,
    "pycharm": {
     "name": "#%% md\n"
    }
   }
  },
  {
   "cell_type": "code",
   "execution_count": 3,
   "outputs": [],
   "source": [
    "def unpack(files: list) -> list:\n",
    "    for file in files:\n",
    "        with zipfile.ZipFile(file) as zip_file:\n",
    "            zip_file.extractall(file[:77])\n",
    "\n",
    "    #csv files - new list\n",
    "    csv_files = glob(f'{data_dir}/*/*.csv')\n",
    "\n",
    "    return sorted(csv_files)\n",
    "\n"
   ],
   "metadata": {
    "collapsed": false,
    "pycharm": {
     "name": "#%%\n"
    }
   }
  },
  {
   "cell_type": "markdown",
   "source": [
    "## Analiza danych"
   ],
   "metadata": {
    "collapsed": false,
    "pycharm": {
     "name": "#%% md\n"
    }
   }
  },
  {
   "cell_type": "code",
   "execution_count": 17,
   "outputs": [
    {
     "name": "stdout",
     "output_type": "stream",
     "text": [
      "execution time: 2.1136205196380615 s\n"
     ]
    },
    {
     "data": {
      "text/plain": "              Nazwa stacji Nazwa rzeki/jeziora  Rok hydrologiczny  \\\nKod stacji                                                          \n150190340   KRAKÓW-BIELANY           Wisła (2)               2016   \n150190340   KRAKÓW-BIELANY           Wisła (2)               2016   \n150190340   KRAKÓW-BIELANY           Wisła (2)               2016   \n150190340   KRAKÓW-BIELANY           Wisła (2)               2016   \n150190340   KRAKÓW-BIELANY           Wisła (2)               2016   \n...                    ...                 ...                ...   \n150190340   KRAKÓW-BIELANY           Wisła (2)               2018   \n150190340   KRAKÓW-BIELANY           Wisła (2)               2018   \n150190340   KRAKÓW-BIELANY           Wisła (2)               2018   \n150190340   KRAKÓW-BIELANY           Wisła (2)               2018   \n150190340   KRAKÓW-BIELANY           Wisła (2)               2018   \n\n            Wskaźnik miesiąca w roku hydrologicznym  Dzień  Stan wody [cm]  \\\nKod stacji                                                                   \n150190340                                         1      1             148   \n150190340                                         1      2             147   \n150190340                                         1      3             145   \n150190340                                         1      4             134   \n150190340                                         1      5             126   \n...                                             ...    ...             ...   \n150190340                                        12     27             149   \n150190340                                        12     28             157   \n150190340                                        12     29             165   \n150190340                                        12     30             150   \n150190340                                        12     31             145   \n\n            Przepływ [m^3/s]  Temperatura wody [st. C]  Miesiąc kalendarzowy  \nKod stacji                                                                    \n150190340          99999.999                      99.9                    11  \n150190340          99999.999                      99.9                    11  \n150190340          99999.999                      99.9                    11  \n150190340          99999.999                      99.9                    11  \n150190340          99999.999                      99.9                    11  \n...                      ...                       ...                   ...  \n150190340          99999.999                      99.9                    10  \n150190340          99999.999                      99.9                    10  \n150190340          99999.999                      99.9                    10  \n150190340          99999.999                      99.9                    10  \n150190340          99999.999                      99.9                    10  \n\n[1096 rows x 9 columns]",
      "text/html": "<div>\n<style scoped>\n    .dataframe tbody tr th:only-of-type {\n        vertical-align: middle;\n    }\n\n    .dataframe tbody tr th {\n        vertical-align: top;\n    }\n\n    .dataframe thead th {\n        text-align: right;\n    }\n</style>\n<table border=\"1\" class=\"dataframe\">\n  <thead>\n    <tr style=\"text-align: right;\">\n      <th></th>\n      <th>Nazwa stacji</th>\n      <th>Nazwa rzeki/jeziora</th>\n      <th>Rok hydrologiczny</th>\n      <th>Wskaźnik miesiąca w roku hydrologicznym</th>\n      <th>Dzień</th>\n      <th>Stan wody [cm]</th>\n      <th>Przepływ [m^3/s]</th>\n      <th>Temperatura wody [st. C]</th>\n      <th>Miesiąc kalendarzowy</th>\n    </tr>\n    <tr>\n      <th>Kod stacji</th>\n      <th></th>\n      <th></th>\n      <th></th>\n      <th></th>\n      <th></th>\n      <th></th>\n      <th></th>\n      <th></th>\n      <th></th>\n    </tr>\n  </thead>\n  <tbody>\n    <tr>\n      <th>150190340</th>\n      <td>KRAKÓW-BIELANY</td>\n      <td>Wisła (2)</td>\n      <td>2016</td>\n      <td>1</td>\n      <td>1</td>\n      <td>148</td>\n      <td>99999.999</td>\n      <td>99.9</td>\n      <td>11</td>\n    </tr>\n    <tr>\n      <th>150190340</th>\n      <td>KRAKÓW-BIELANY</td>\n      <td>Wisła (2)</td>\n      <td>2016</td>\n      <td>1</td>\n      <td>2</td>\n      <td>147</td>\n      <td>99999.999</td>\n      <td>99.9</td>\n      <td>11</td>\n    </tr>\n    <tr>\n      <th>150190340</th>\n      <td>KRAKÓW-BIELANY</td>\n      <td>Wisła (2)</td>\n      <td>2016</td>\n      <td>1</td>\n      <td>3</td>\n      <td>145</td>\n      <td>99999.999</td>\n      <td>99.9</td>\n      <td>11</td>\n    </tr>\n    <tr>\n      <th>150190340</th>\n      <td>KRAKÓW-BIELANY</td>\n      <td>Wisła (2)</td>\n      <td>2016</td>\n      <td>1</td>\n      <td>4</td>\n      <td>134</td>\n      <td>99999.999</td>\n      <td>99.9</td>\n      <td>11</td>\n    </tr>\n    <tr>\n      <th>150190340</th>\n      <td>KRAKÓW-BIELANY</td>\n      <td>Wisła (2)</td>\n      <td>2016</td>\n      <td>1</td>\n      <td>5</td>\n      <td>126</td>\n      <td>99999.999</td>\n      <td>99.9</td>\n      <td>11</td>\n    </tr>\n    <tr>\n      <th>...</th>\n      <td>...</td>\n      <td>...</td>\n      <td>...</td>\n      <td>...</td>\n      <td>...</td>\n      <td>...</td>\n      <td>...</td>\n      <td>...</td>\n      <td>...</td>\n    </tr>\n    <tr>\n      <th>150190340</th>\n      <td>KRAKÓW-BIELANY</td>\n      <td>Wisła (2)</td>\n      <td>2018</td>\n      <td>12</td>\n      <td>27</td>\n      <td>149</td>\n      <td>99999.999</td>\n      <td>99.9</td>\n      <td>10</td>\n    </tr>\n    <tr>\n      <th>150190340</th>\n      <td>KRAKÓW-BIELANY</td>\n      <td>Wisła (2)</td>\n      <td>2018</td>\n      <td>12</td>\n      <td>28</td>\n      <td>157</td>\n      <td>99999.999</td>\n      <td>99.9</td>\n      <td>10</td>\n    </tr>\n    <tr>\n      <th>150190340</th>\n      <td>KRAKÓW-BIELANY</td>\n      <td>Wisła (2)</td>\n      <td>2018</td>\n      <td>12</td>\n      <td>29</td>\n      <td>165</td>\n      <td>99999.999</td>\n      <td>99.9</td>\n      <td>10</td>\n    </tr>\n    <tr>\n      <th>150190340</th>\n      <td>KRAKÓW-BIELANY</td>\n      <td>Wisła (2)</td>\n      <td>2018</td>\n      <td>12</td>\n      <td>30</td>\n      <td>150</td>\n      <td>99999.999</td>\n      <td>99.9</td>\n      <td>10</td>\n    </tr>\n    <tr>\n      <th>150190340</th>\n      <td>KRAKÓW-BIELANY</td>\n      <td>Wisła (2)</td>\n      <td>2018</td>\n      <td>12</td>\n      <td>31</td>\n      <td>145</td>\n      <td>99999.999</td>\n      <td>99.9</td>\n      <td>10</td>\n    </tr>\n  </tbody>\n</table>\n<p>1096 rows × 9 columns</p>\n</div>"
     },
     "execution_count": 17,
     "metadata": {},
     "output_type": "execute_result"
    }
   ],
   "source": [
    "start_time = time.time()\n",
    "codz_names = (\n",
    "                'Kod stacji',\n",
    "                'Nazwa stacji',\n",
    "                'Nazwa rzeki/jeziora',\n",
    "                'Rok hydrologiczny',\n",
    "                'Wskaźnik miesiąca w roku hydrologicznym',\n",
    "                'Dzień',\n",
    "                'Stan wody [cm]',\n",
    "                'Przepływ [m^3/s]',\n",
    "                'Temperatura wody [st. C]',\n",
    "                'Miesiąc kalendarzowy'\n",
    ")\n",
    "\n",
    "zjaw_names = (\n",
    "            'Kod stacji',\n",
    "            'Nazwa stacji',\n",
    "            'Nazwa rzeki/jeziora',\n",
    "            'Rok hydrologiczny',\n",
    "            'Wskaźnik miesiąca w roku hydrologicznym',\n",
    "            'Dzień',\n",
    "            'Grubość lodu [cm]',\n",
    "            'Kod zjawiska lodowego',\n",
    "            'Procent udziału zjawiska lodowego / 10',\n",
    "            'Kod zarastania'\n",
    ")\n",
    "KRK_BIELANY = pd.DataFrame()\n",
    "for file in unpack(zip_files):\n",
    "    if 'codz_' in file:\n",
    "        df = pd.read_csv(\n",
    "            file,\n",
    "            encoding='windows-1250',\n",
    "            index_col='Kod stacji',\n",
    "            names=codz_names\n",
    "        )\n",
    "        krk_bielany = df[df['Nazwa stacji'] == 'KRAKÓW-BIELANY']\n",
    "        KRK_BIELANY = pd.concat([KRK_BIELANY, krk_bielany])\n",
    "print(f'execution time: {time.time() - start_time} s')\n",
    "KRK_BIELANY\n",
    "\n",
    "# value 9999 in df['Stan wody'] = NaN\n",
    "# value 99.9 in df['Temperatura wody [st. C]'] = NaN\n",
    "# value 99999.999 in df['Przepływ [m^3/s]'] = NaN\n",
    "\n",
    "    # elif 'zjaw_' in file:\n",
    "    #     continue\n",
    "    #     df = pd.read_csv(\n",
    "    #         file,\n",
    "    #         encoding='windows-1250',\n",
    "    #         index_col='Kod stacji',\n",
    "    #         names=zjaw_names\n",
    "    #     )"
   ],
   "metadata": {
    "collapsed": false,
    "pycharm": {
     "name": "#%%\n"
    }
   }
  }
 ],
 "metadata": {
  "kernelspec": {
   "display_name": "Python 3",
   "language": "python",
   "name": "python3"
  },
  "language_info": {
   "codemirror_mode": {
    "name": "ipython",
    "version": 2
   },
   "file_extension": ".py",
   "mimetype": "text/x-python",
   "name": "python",
   "nbconvert_exporter": "python",
   "pygments_lexer": "ipython2",
   "version": "2.7.6"
  }
 },
 "nbformat": 4,
 "nbformat_minor": 0
}