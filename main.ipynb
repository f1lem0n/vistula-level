{
 "cells": [
  {
   "cell_type": "markdown",
   "source": [
    "# Analiza danych hydrologicznych - stacja Kraków-Czernichów, 2016-2018"
   ],
   "metadata": {
    "collapsed": false,
    "pycharm": {
     "name": "#%% md\n"
    }
   }
  },
  {
   "cell_type": "markdown",
   "source": [
    "## Zaimportowane moduły i pliki"
   ],
   "metadata": {
    "collapsed": false,
    "pycharm": {
     "name": "#%% md\n"
    }
   }
  },
  {
   "cell_type": "code",
   "execution_count": 1,
   "outputs": [],
   "source": [
    "import time\n",
    "import zipfile\n",
    "from glob import glob\n",
    "import pandas as pd\n",
    "import matplotlib.pyplot as plt"
   ],
   "metadata": {
    "collapsed": false,
    "pycharm": {
     "name": "#%%\n"
    }
   }
  },
  {
   "cell_type": "code",
   "execution_count": 2,
   "outputs": [],
   "source": [
    "data_dir = 'dane.imgw.pl/data/dane_pomiarowo_obserwacyjne/dane_hydrologiczne/dobowe'\n",
    "zip_files = glob(f'{data_dir}/*/*.zip')"
   ],
   "metadata": {
    "collapsed": false,
    "pycharm": {
     "name": "#%%\n"
    }
   }
  },
  {
   "cell_type": "markdown",
   "source": [
    "## Ekstrakcja z archiwów .zip\n",
    "Ten skrypt ma za zadanie wypakowanie zawartości pliku .zip (plik .csv) do tej samej ścieżki, a następnie stworzenie listy otrzymanych plików .csv."
   ],
   "metadata": {
    "collapsed": false,
    "pycharm": {
     "name": "#%% md\n"
    }
   }
  },
  {
   "cell_type": "code",
   "execution_count": 3,
   "outputs": [],
   "source": [
    "def unpack(files: list) -> list:\n",
    "    for file in files:\n",
    "        with zipfile.ZipFile(file) as zip_file:\n",
    "            zip_file.extractall(file[:77])\n",
    "\n",
    "    #csv files - new list\n",
    "    csv_files = glob(f'{data_dir}/*/*.csv')\n",
    "\n",
    "    return sorted(csv_files)\n",
    "\n"
   ],
   "metadata": {
    "collapsed": false,
    "pycharm": {
     "name": "#%%\n"
    }
   }
  },
  {
   "cell_type": "markdown",
   "source": [
    "## Analiza danych"
   ],
   "metadata": {
    "collapsed": false,
    "pycharm": {
     "name": "#%% md\n"
    }
   }
  },
  {
   "cell_type": "code",
   "execution_count": 4,
   "outputs": [
    {
     "name": "stdout",
     "output_type": "stream",
     "text": [
      "execution time: 52.39454102516174 s\n"
     ]
    }
   ],
   "source": [
    "start_time = time.time()\n",
    "codz_names = (\n",
    "    'Kod stacji',\n",
    "    'Nazwa stacji',\n",
    "    'Nazwa rzeki/jeziora',\n",
    "    'Rok hydrologiczny',\n",
    "    'Wskaźnik miesiąca w roku hydrologicznym',\n",
    "    'Dzień',\n",
    "    'Stan wody [cm]',\n",
    "    'Przepływ [m^3/s]',\n",
    "    'Temperatura wody [st. C]',\n",
    "    'Miesiąc kalendarzowy'\n",
    ")\n",
    "\n",
    "zjaw_names = (\n",
    "    'Kod stacji',\n",
    "    'Nazwa stacji',\n",
    "    'Nazwa rzeki/jeziora',\n",
    "    'Rok hydrologiczny',\n",
    "    'Wskaźnik miesiąca w roku hydrologicznym',\n",
    "    'Dzień',\n",
    "    'Grubość lodu [cm]',\n",
    "    'Kod zjawiska lodowego',\n",
    "    'Procent udziału zjawiska lodowego / 10',\n",
    "    'Kod zarastania'\n",
    ")\n",
    "DF = pd.DataFrame()\n",
    "dates = []\n",
    "stations = []\n",
    "for file in unpack(zip_files):\n",
    "    if 'codz_' in file:\n",
    "        df = pd.read_csv(\n",
    "            file,\n",
    "            encoding='windows-1250',\n",
    "            names=codz_names\n",
    "        )\n",
    "\n",
    "        DF = pd.concat([DF, df], ignore_index=True)\n",
    "\n",
    "        for row in df['Nazwa stacji']:\n",
    "            if row not in stations:\n",
    "                stations.append(row)\n",
    "\n",
    "DF = {i: (DF[DF['Nazwa stacji'] == i]) for i in stations}\n",
    "\n",
    "print(f'execution time: {time.time() - start_time} s')"
   ],
   "metadata": {
    "collapsed": false,
    "pycharm": {
     "name": "#%%\n"
    }
   }
  },
  {
   "cell_type": "code",
   "execution_count": 6,
   "outputs": [
    {
     "data": {
      "text/plain": "        Kod stacji    Nazwa stacji Nazwa rzeki/jeziora  Rok hydrologiczny  \\\n10496    150190340  KRAKÓW-BIELANY           Wisła (2)               2016   \n10497    150190340  KRAKÓW-BIELANY           Wisła (2)               2016   \n10498    150190340  KRAKÓW-BIELANY           Wisła (2)               2016   \n10499    150190340  KRAKÓW-BIELANY           Wisła (2)               2016   \n10500    150190340  KRAKÓW-BIELANY           Wisła (2)               2016   \n...            ...             ...                 ...                ...   \n887916   150190340  KRAKÓW-BIELANY           Wisła (2)               2018   \n887917   150190340  KRAKÓW-BIELANY           Wisła (2)               2018   \n887918   150190340  KRAKÓW-BIELANY           Wisła (2)               2018   \n887919   150190340  KRAKÓW-BIELANY           Wisła (2)               2018   \n887920   150190340  KRAKÓW-BIELANY           Wisła (2)               2018   \n\n        Wskaźnik miesiąca w roku hydrologicznym  Dzień  Stan wody [cm]  \\\n10496                                         1      1             148   \n10497                                         1      2             147   \n10498                                         1      3             145   \n10499                                         1      4             134   \n10500                                         1      5             126   \n...                                         ...    ...             ...   \n887916                                       12     27             149   \n887917                                       12     28             157   \n887918                                       12     29             165   \n887919                                       12     30             150   \n887920                                       12     31             145   \n\n        Przepływ [m^3/s]  Temperatura wody [st. C]  Miesiąc kalendarzowy  \n10496          99999.999                      99.9                    11  \n10497          99999.999                      99.9                    11  \n10498          99999.999                      99.9                    11  \n10499          99999.999                      99.9                    11  \n10500          99999.999                      99.9                    11  \n...                  ...                       ...                   ...  \n887916         99999.999                      99.9                    10  \n887917         99999.999                      99.9                    10  \n887918         99999.999                      99.9                    10  \n887919         99999.999                      99.9                    10  \n887920         99999.999                      99.9                    10  \n\n[1096 rows x 10 columns]",
      "text/html": "<div>\n<style scoped>\n    .dataframe tbody tr th:only-of-type {\n        vertical-align: middle;\n    }\n\n    .dataframe tbody tr th {\n        vertical-align: top;\n    }\n\n    .dataframe thead th {\n        text-align: right;\n    }\n</style>\n<table border=\"1\" class=\"dataframe\">\n  <thead>\n    <tr style=\"text-align: right;\">\n      <th></th>\n      <th>Kod stacji</th>\n      <th>Nazwa stacji</th>\n      <th>Nazwa rzeki/jeziora</th>\n      <th>Rok hydrologiczny</th>\n      <th>Wskaźnik miesiąca w roku hydrologicznym</th>\n      <th>Dzień</th>\n      <th>Stan wody [cm]</th>\n      <th>Przepływ [m^3/s]</th>\n      <th>Temperatura wody [st. C]</th>\n      <th>Miesiąc kalendarzowy</th>\n    </tr>\n  </thead>\n  <tbody>\n    <tr>\n      <th>10496</th>\n      <td>150190340</td>\n      <td>KRAKÓW-BIELANY</td>\n      <td>Wisła (2)</td>\n      <td>2016</td>\n      <td>1</td>\n      <td>1</td>\n      <td>148</td>\n      <td>99999.999</td>\n      <td>99.9</td>\n      <td>11</td>\n    </tr>\n    <tr>\n      <th>10497</th>\n      <td>150190340</td>\n      <td>KRAKÓW-BIELANY</td>\n      <td>Wisła (2)</td>\n      <td>2016</td>\n      <td>1</td>\n      <td>2</td>\n      <td>147</td>\n      <td>99999.999</td>\n      <td>99.9</td>\n      <td>11</td>\n    </tr>\n    <tr>\n      <th>10498</th>\n      <td>150190340</td>\n      <td>KRAKÓW-BIELANY</td>\n      <td>Wisła (2)</td>\n      <td>2016</td>\n      <td>1</td>\n      <td>3</td>\n      <td>145</td>\n      <td>99999.999</td>\n      <td>99.9</td>\n      <td>11</td>\n    </tr>\n    <tr>\n      <th>10499</th>\n      <td>150190340</td>\n      <td>KRAKÓW-BIELANY</td>\n      <td>Wisła (2)</td>\n      <td>2016</td>\n      <td>1</td>\n      <td>4</td>\n      <td>134</td>\n      <td>99999.999</td>\n      <td>99.9</td>\n      <td>11</td>\n    </tr>\n    <tr>\n      <th>10500</th>\n      <td>150190340</td>\n      <td>KRAKÓW-BIELANY</td>\n      <td>Wisła (2)</td>\n      <td>2016</td>\n      <td>1</td>\n      <td>5</td>\n      <td>126</td>\n      <td>99999.999</td>\n      <td>99.9</td>\n      <td>11</td>\n    </tr>\n    <tr>\n      <th>...</th>\n      <td>...</td>\n      <td>...</td>\n      <td>...</td>\n      <td>...</td>\n      <td>...</td>\n      <td>...</td>\n      <td>...</td>\n      <td>...</td>\n      <td>...</td>\n      <td>...</td>\n    </tr>\n    <tr>\n      <th>887916</th>\n      <td>150190340</td>\n      <td>KRAKÓW-BIELANY</td>\n      <td>Wisła (2)</td>\n      <td>2018</td>\n      <td>12</td>\n      <td>27</td>\n      <td>149</td>\n      <td>99999.999</td>\n      <td>99.9</td>\n      <td>10</td>\n    </tr>\n    <tr>\n      <th>887917</th>\n      <td>150190340</td>\n      <td>KRAKÓW-BIELANY</td>\n      <td>Wisła (2)</td>\n      <td>2018</td>\n      <td>12</td>\n      <td>28</td>\n      <td>157</td>\n      <td>99999.999</td>\n      <td>99.9</td>\n      <td>10</td>\n    </tr>\n    <tr>\n      <th>887918</th>\n      <td>150190340</td>\n      <td>KRAKÓW-BIELANY</td>\n      <td>Wisła (2)</td>\n      <td>2018</td>\n      <td>12</td>\n      <td>29</td>\n      <td>165</td>\n      <td>99999.999</td>\n      <td>99.9</td>\n      <td>10</td>\n    </tr>\n    <tr>\n      <th>887919</th>\n      <td>150190340</td>\n      <td>KRAKÓW-BIELANY</td>\n      <td>Wisła (2)</td>\n      <td>2018</td>\n      <td>12</td>\n      <td>30</td>\n      <td>150</td>\n      <td>99999.999</td>\n      <td>99.9</td>\n      <td>10</td>\n    </tr>\n    <tr>\n      <th>887920</th>\n      <td>150190340</td>\n      <td>KRAKÓW-BIELANY</td>\n      <td>Wisła (2)</td>\n      <td>2018</td>\n      <td>12</td>\n      <td>31</td>\n      <td>145</td>\n      <td>99999.999</td>\n      <td>99.9</td>\n      <td>10</td>\n    </tr>\n  </tbody>\n</table>\n<p>1096 rows × 10 columns</p>\n</div>"
     },
     "execution_count": 6,
     "metadata": {},
     "output_type": "execute_result"
    }
   ],
   "source": [
    "krk_bielany = DF['KRAKÓW-BIELANY']\n",
    "krk_bielany\n",
    "\n",
    "# for idx, row in enumerate(krk_bielany['Rok hydrologiczny']):\n",
    "#     date = f\"{row}.{krk_bielany['Wskaźnik miesiąca w roku hydrologicznym'][idx]:02d}.{krk_bielany['Dzień'][idx]:02d}\"\n",
    "#     dates.append(date)\n",
    "# krk_bielany.insert(value=dates, column='Data', loc=3)\n",
    "#\n",
    "# krk_bielany = krk_bielany.drop(\n",
    "#     axis=1,\n",
    "#     labels=[\n",
    "#         'Rok hydrologiczny',\n",
    "#         'Wskaźnik miesiąca w roku hydrologicznym',\n",
    "#         'Dzień',\n",
    "#         'Miesiąc kalendarzowy'\n",
    "#     ]\n",
    "# )"
   ],
   "metadata": {
    "collapsed": false,
    "pycharm": {
     "name": "#%%\n"
    }
   }
  },
  {
   "cell_type": "code",
   "execution_count": null,
   "outputs": [],
   "source": [
    "fig1 = plt.figure(figsize=(10, 6), dpi=100, facecolor='#ffffff')\n",
    "plt.plot(\n",
    "    KRK_BIELANY['Data'],\n",
    "    KRK_BIELANY['Stan wody [cm]'],\n",
    ")\n",
    "plt.title('Poziom wody w Wiśle w latach 2016-2018 (stacja Kraków-Bielany)', fontdict={'fontsize': 18})\n",
    "plt.ylabel('Poziom wody [cm]', fontdict={'fontsize': 14}, labelpad=30)\n",
    "plt.xlabel('Data', fontdict={'fontsize': 14}, labelpad=30)\n",
    "plt.xticks(KRK_BIELANY['Data'][::90], rotation=90)\n",
    "plt.savefig('output/fig1.png', bbox_inches='tight')\n",
    "plt.show()\n",
    "plt.close(fig1)"
   ],
   "metadata": {
    "collapsed": false,
    "pycharm": {
     "name": "#%%\n"
    }
   }
  },
  {
   "cell_type": "code",
   "execution_count": null,
   "outputs": [],
   "source": [
    "fig1 = plt.figure(figsize=(10, 6), dpi=100, facecolor='#ffffff')\n",
    "plt.plot(\n",
    "    KRK_BIELANY['Data'],\n",
    "    KRK_BIELANY['Stan wody [cm]'],\n",
    ")\n",
    "plt.title('Poziom wody w Wiśle w latach 2016-2018 (stacja Kraków-Bielany)', fontdict={'fontsize': 18})\n",
    "plt.ylabel('Poziom wody [cm]', fontdict={'fontsize': 14}, labelpad=30)\n",
    "plt.xlabel('Data', fontdict={'fontsize': 14}, labelpad=30)\n",
    "plt.xticks(KRK_BIELANY['Data'][::90], rotation=90)\n",
    "plt.savefig('output/fig1.png', bbox_inches='tight')\n",
    "plt.show()\n",
    "plt.close(fig1)"
   ],
   "metadata": {
    "collapsed": false,
    "pycharm": {
     "name": "#%%\n"
    }
   }
  },
  {
   "cell_type": "code",
   "execution_count": null,
   "outputs": [],
   "source": [
    "fig1 = plt.figure(figsize=(10, 6), dpi=100, facecolor='#ffffff')\n",
    "plt.plot(\n",
    "    KRK_BIELANY['Data'],\n",
    "    KRK_BIELANY['Stan wody [cm]'],\n",
    ")\n",
    "plt.title('Poziom wody w Wiśle w latach 2016-2018 (stacja Kraków-Bielany)', fontdict={'fontsize':18})\n",
    "plt.ylabel('Poziom wody [cm]', fontdict={'fontsize':14}, labelpad=30)\n",
    "plt.xlabel('Data', fontdict={'fontsize':14}, labelpad=30)\n",
    "plt.xticks(KRK_BIELANY['Data'][::90], rotation=90)\n",
    "plt.savefig('output/fig1.png', bbox_inches='tight')\n",
    "plt.show()\n",
    "plt.close(fig1)"
   ],
   "metadata": {
    "collapsed": false,
    "pycharm": {
     "name": "#%%\n"
    }
   }
  }
 ],
 "metadata": {
  "kernelspec": {
   "display_name": "Python 3",
   "language": "python",
   "name": "python3"
  },
  "language_info": {
   "codemirror_mode": {
    "name": "ipython",
    "version": 2
   },
   "file_extension": ".py",
   "mimetype": "text/x-python",
   "name": "python",
   "nbconvert_exporter": "python",
   "pygments_lexer": "ipython2",
   "version": "2.7.6"
  }
 },
 "nbformat": 4,
 "nbformat_minor": 0
}